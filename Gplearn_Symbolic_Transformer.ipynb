{
 "cells": [
  {
   "cell_type": "markdown",
   "metadata": {},
   "source": [
    "# Instituto Tecnológico y de Estudios Superiores de Occidente\n",
    "## Maestria en Ciencia de Datos\n",
    "## Optimizacion Convexa\n",
    "## HW 04: Constrained optimization and regularization\n",
    "## Symbolic Regressor\n",
    "### Professor: Juan Diego Sanchez Torres\n",
    "### Team: \n",
    "#### María Elisa Vaca Gómez \n",
    "#### Alejandra Paola Galindo Hernández\n",
    "#### Jesús Rodrigo Ponce González\n",
    "#### Aldo Emmanuel Villareal Palomino"
   ]
  },
  {
   "cell_type": "markdown",
   "metadata": {},
   "source": [
    "# Example 2: Symbolic Transformer"
   ]
  },
  {
   "cell_type": "code",
   "execution_count": 1,
   "metadata": {},
   "outputs": [],
   "source": [
    "from gplearn.genetic import SymbolicTransformer\n",
    "from sklearn.utils import check_random_state\n",
    "from sklearn.datasets import load_boston\n",
    "import numpy as np"
   ]
  },
  {
   "cell_type": "code",
   "execution_count": 2,
   "metadata": {},
   "outputs": [],
   "source": [
    "rng = check_random_state(0)\n",
    "boston = load_boston()\n",
    "perm = rng.permutation(boston.target.size)\n",
    "boston.data = boston.data[perm]\n",
    "boston.target = boston.target[perm]"
   ]
  },
  {
   "cell_type": "code",
   "execution_count": 3,
   "metadata": {},
   "outputs": [
    {
     "name": "stdout",
     "output_type": "stream",
     "text": [
      "0.7593194530498838\n"
     ]
    }
   ],
   "source": [
    "from sklearn.linear_model import Ridge\n",
    "est = Ridge()\n",
    "est.fit(boston.data[:300, :], boston.target[:300])\n",
    "print(est.score(boston.data[300:, :], boston.target[300:]))"
   ]
  },
  {
   "cell_type": "code",
   "execution_count": 4,
   "metadata": {},
   "outputs": [],
   "source": [
    "function_set = ['add', 'sub', 'mul', 'div', 'sqrt', 'log',\n",
    "                'abs', 'neg', 'inv', 'max', 'min']\n",
    "gp = SymbolicTransformer(generations=20, population_size=2000,\n",
    "                         hall_of_fame=100, n_components=10,\n",
    "                         function_set=function_set,\n",
    "                         parsimony_coefficient=0.0005,\n",
    "                         max_samples=0.9, verbose=1,\n",
    "                         random_state=0)\n"
   ]
  },
  {
   "cell_type": "code",
   "execution_count": 5,
   "metadata": {},
   "outputs": [
    {
     "name": "stdout",
     "output_type": "stream",
     "text": [
      "    |   Population Average    |             Best Individual              |\n",
      "---- ------------------------- ------------------------------------------ ----------\n",
      " Gen   Length          Fitness   Length          Fitness      OOB Fitness  Time Left\n",
      "   0    11.04         0.339876        6         0.822502         0.675124     24.04s\n",
      "   1     6.91         0.593562        7         0.836993         0.602468     22.80s\n",
      "   2     5.07         0.730093        8          0.84063         0.704017     21.51s\n",
      "   3     5.22         0.735525        5         0.847019         0.628351     20.87s\n",
      "   4     6.24         0.734679       10         0.856612         0.565138     23.72s\n",
      "   5     8.23         0.721433       18          0.85677         0.728095     27.10s\n",
      "   6    10.20         0.717937       14         0.875233         0.619693     24.28s\n",
      "   7    11.84         0.720667       14         0.875927         0.609363     22.40s\n",
      "   8    12.56         0.733019       27         0.881705         0.390121     22.46s\n",
      "   9    13.61          0.73144       16         0.873285         0.598466     20.63s\n",
      "  10    14.81         0.737687       16         0.873915          0.67127     17.56s\n",
      "  11    14.84          0.73787       21         0.874944         0.467722     16.33s\n",
      "  12    15.40         0.740935       22         0.878053         0.534554     14.09s\n",
      "  13    16.83         0.743265       15         0.874735         0.635764     12.36s\n",
      "  14    17.04         0.741628       13         0.884417         0.493354     10.67s\n",
      "  15    17.02         0.744034       26         0.892236         0.647918      8.62s\n",
      "  16    18.23         0.738467       43         0.879153         0.377872      6.73s\n",
      "  17    18.09         0.722973       16         0.889763         0.508006      4.16s\n",
      "  18    19.58          0.70793       27         0.889402         0.639016      2.09s\n",
      "  19    21.69         0.697116       24         0.888272          0.56025      0.00s\n"
     ]
    },
    {
     "data": {
      "text/plain": [
       "SymbolicTransformer(function_set=['add', 'sub', 'mul', 'div', 'sqrt', 'log',\n",
       "                                  'abs', 'neg', 'inv', 'max', 'min'],\n",
       "                    max_samples=0.9, parsimony_coefficient=0.0005,\n",
       "                    population_size=2000, random_state=0, verbose=1)"
      ]
     },
     "execution_count": 5,
     "metadata": {},
     "output_type": "execute_result"
    }
   ],
   "source": [
    "gp.fit(boston.data[:300, :], boston.target[:300])"
   ]
  },
  {
   "cell_type": "code",
   "execution_count": 6,
   "metadata": {},
   "outputs": [
    {
     "data": {
      "text/plain": [
       "(506, 10)"
      ]
     },
     "execution_count": 6,
     "metadata": {},
     "output_type": "execute_result"
    }
   ],
   "source": [
    "gp_features = gp.transform(boston.data)\n",
    "gp_features.shape"
   ]
  },
  {
   "cell_type": "code",
   "execution_count": 7,
   "metadata": {},
   "outputs": [
    {
     "data": {
      "text/plain": [
       "(506, 23)"
      ]
     },
     "execution_count": 7,
     "metadata": {},
     "output_type": "execute_result"
    }
   ],
   "source": [
    "new_boston = np.hstack((boston.data, gp_features))\n",
    "new_boston.shape"
   ]
  },
  {
   "cell_type": "code",
   "execution_count": 8,
   "metadata": {},
   "outputs": [
    {
     "name": "stdout",
     "output_type": "stream",
     "text": [
      "0.841837210518192\n"
     ]
    }
   ],
   "source": [
    "est = Ridge()\n",
    "est.fit(new_boston[:300, :], boston.target[:300])\n",
    "print(est.score(new_boston[300:, :], boston.target[300:]))"
   ]
  }
 ],
 "metadata": {
  "kernelspec": {
   "display_name": "Python 3",
   "language": "python",
   "name": "python3"
  },
  "language_info": {
   "codemirror_mode": {
    "name": "ipython",
    "version": 3
   },
   "file_extension": ".py",
   "mimetype": "text/x-python",
   "name": "python",
   "nbconvert_exporter": "python",
   "pygments_lexer": "ipython3",
   "version": "3.8.3"
  }
 },
 "nbformat": 4,
 "nbformat_minor": 1
}
